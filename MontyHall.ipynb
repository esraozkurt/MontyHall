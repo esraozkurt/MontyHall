{
  "metadata": {
    "language_info": {
      "codemirror_mode": {
        "name": "python",
        "version": 3
      },
      "file_extension": ".py",
      "mimetype": "text/x-python",
      "name": "python",
      "nbconvert_exporter": "python",
      "pygments_lexer": "ipython3",
      "version": "3.8"
    },
    "kernelspec": {
      "name": "python",
      "display_name": "Pyolite",
      "language": "python"
    },
    "colab": {
      "name": "MontyHall.ipynb",
      "provenance": []
    }
  },
  "nbformat_minor": 0,
  "nbformat": 4,
  "cells": [
    {
      "cell_type": "code",
      "source": [
        "#Used Random module instead of Numpy to return lists\n",
        "import random"
      ],
      "metadata": {
        "trusted": true,
        "id": "umppqO9_j2Ln"
      },
      "execution_count": null,
      "outputs": []
    },
    {
      "cell_type": "code",
      "source": [
        "#shuffle() randomly fetches items\n",
        "doors = ['car', 'goat', 'goat']\n",
        "random.shuffle(doors)\n",
        "doors"
      ],
      "metadata": {
        "trusted": true,
        "id": "mKkh4rfaj2Lp",
        "outputId": "45377be1-5c82-4c9c-84cf-2d5f2da6b29a"
      },
      "execution_count": null,
      "outputs": [
        {
          "execution_count": 22,
          "output_type": "execute_result",
          "data": {
            "text/plain": "['car', 'goat', 'goat']"
          },
          "metadata": {}
        }
      ]
    },
    {
      "cell_type": "code",
      "source": [
        "#random.choice() randomly selected door \n",
        "my_door_index = random.choice([0, 1, 2])\n",
        "my_door_index"
      ],
      "metadata": {
        "trusted": true,
        "id": "18ZqueXSj2Lq",
        "outputId": "df8f0aab-5dc2-4d5c-f2a4-8890949bee46"
      },
      "execution_count": null,
      "outputs": [
        {
          "execution_count": 23,
          "output_type": "execute_result",
          "data": {
            "text/plain": "0"
          },
          "metadata": {}
        }
      ]
    },
    {
      "cell_type": "code",
      "source": [
        "#The selected door has been removed from the list\n",
        "stay_result = doors.pop(my_door_index)\n",
        "stay_result"
      ],
      "metadata": {
        "trusted": true,
        "id": "KINe-phOj2Lr",
        "outputId": "66a6b055-499f-4626-84e7-417504e0975a"
      },
      "execution_count": null,
      "outputs": [
        {
          "execution_count": 24,
          "output_type": "execute_result",
          "data": {
            "text/plain": "'car'"
          },
          "metadata": {}
        }
      ]
    },
    {
      "cell_type": "code",
      "source": [
        "#2 doors left to choose\n",
        "doors"
      ],
      "metadata": {
        "trusted": true,
        "id": "NEXNzrM3j2Lr",
        "outputId": "51e6ce03-6aee-461b-d76c-7e8f5e872da4"
      },
      "execution_count": null,
      "outputs": [
        {
          "execution_count": 25,
          "output_type": "execute_result",
          "data": {
            "text/plain": "['goat', 'goat']"
          },
          "metadata": {}
        }
      ]
    },
    {
      "cell_type": "code",
      "source": [
        "#A goat is lifted behind the door\n",
        "doors.remove('goat')\n",
        "doors"
      ],
      "metadata": {
        "trusted": true,
        "id": "2q5LwHvvj2Ls",
        "outputId": "fad6fa1c-b323-43b5-8b36-46101961a792"
      },
      "execution_count": null,
      "outputs": [
        {
          "execution_count": 26,
          "output_type": "execute_result",
          "data": {
            "text/plain": "['goat']"
          },
          "metadata": {}
        }
      ]
    },
    {
      "cell_type": "code",
      "source": [
        "#There is only one door left. It is the result of passing through our original door, behind this door.\n",
        "switch_result = doors[0]\n",
        "switch_result"
      ],
      "metadata": {
        "trusted": true,
        "id": "BOLG4MOpj2Lt",
        "outputId": "7ef6fce6-abf9-4e78-86de-643eca9e6926"
      },
      "execution_count": null,
      "outputs": [
        {
          "execution_count": 27,
          "output_type": "execute_result",
          "data": {
            "text/plain": "'goat'"
          },
          "metadata": {}
        }
      ]
    },
    {
      "cell_type": "code",
      "source": [
        "#10000 test\n",
        "n_tries = 100000\n",
        "#Lists to store the results obtained\n",
        "stay_results = []\n",
        "switch_results = []\n",
        "for i in range(n_tries):\n",
        "    doors = ['car', 'goat', 'goat']\n",
        "    random.shuffle(doors)\n",
        "    my_door_index = random.choice([0, 1, 2])\n",
        "    stay_result = doors.pop(my_door_index)\n",
        "    doors.remove('goat')\n",
        "    switch_result = doors[0]\n",
        "    #Results are placed in lists\n",
        "    stay_results.append(stay_result)\n",
        "    switch_results.append(switch_result)"
      ],
      "metadata": {
        "trusted": true,
        "id": "MyvEYtlIj2Lt"
      },
      "execution_count": null,
      "outputs": []
    },
    {
      "cell_type": "code",
      "source": [
        "#To count the number of \"cars\" item in each list and get the ratio of achievements divided by the length of the list\n",
        "stay_results.count('car') / n_tries"
      ],
      "metadata": {
        "trusted": true,
        "id": "VuPR77_vj2Lu",
        "outputId": "c09b4947-3938-4db6-b7f8-edc53954fa37"
      },
      "execution_count": null,
      "outputs": [
        {
          "execution_count": 29,
          "output_type": "execute_result",
          "data": {
            "text/plain": "0.33403"
          },
          "metadata": {}
        }
      ]
    },
    {
      "cell_type": "code",
      "source": [
        "switch_results.count('car') / n_tries"
      ],
      "metadata": {
        "trusted": true,
        "id": "3d2n_hrNj2Lv",
        "outputId": "630ad14d-f44d-48e1-a893-674482869442"
      },
      "execution_count": null,
      "outputs": [
        {
          "execution_count": 30,
          "output_type": "execute_result",
          "data": {
            "text/plain": "0.66597"
          },
          "metadata": {}
        }
      ]
    }
  ]
}